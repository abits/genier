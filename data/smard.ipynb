{
 "cells": [
  {
   "cell_type": "code",
   "execution_count": 17,
   "metadata": {},
   "outputs": [
    {
     "name": "stderr",
     "output_type": "stream",
     "text": [
      "\u001b[32m\u001b[1m   Resolving\u001b[22m\u001b[39m package versions...\n",
      "\u001b[32m\u001b[1m      Compat\u001b[22m\u001b[39m entries added for \n",
      "\u001b[32m\u001b[1m  No Changes\u001b[22m\u001b[39m to `~/Projekte/genier/Project.toml`\n",
      "\u001b[32m\u001b[1m  No Changes\u001b[22m\u001b[39m to `~/Projekte/genier/Manifest.toml`\n",
      "\u001b[32m\u001b[1m   Resolving\u001b[22m\u001b[39m package versions...\n",
      "\u001b[32m\u001b[1m      Compat\u001b[22m\u001b[39m entries added for \n",
      "\u001b[32m\u001b[1m  No Changes\u001b[22m\u001b[39m to `~/Projekte/genier/Project.toml`\n",
      "\u001b[32m\u001b[1m  No Changes\u001b[22m\u001b[39m to `~/Projekte/genier/Manifest.toml`\n"
     ]
    }
   ],
   "source": [
    "import Pkg\n",
    "Pkg.add(\"DataFrames\")\n",
    "Pkg.add(\"CSV\")\n",
    "using DataFrames, CSV"
   ]
  },
  {
   "cell_type": "code",
   "execution_count": 18,
   "metadata": {},
   "outputs": [
    {
     "data": {
      "text/html": [
       "<div><div style = \"float: left;\"><span>14×7 DataFrame</span></div><div style = \"clear: both;\"></div></div><div class = \"data-frame\" style = \"overflow-x: scroll;\"><table class = \"data-frame\" style = \"margin-bottom: 6px;\"><thead><tr class = \"header\"><th class = \"rowNumber\" style = \"font-weight: bold; text-align: right;\">Row</th><th style = \"text-align: left;\">variable</th><th style = \"text-align: left;\">mean</th><th style = \"text-align: left;\">min</th><th style = \"text-align: left;\">median</th><th style = \"text-align: left;\">max</th><th style = \"text-align: left;\">nmissing</th><th style = \"text-align: left;\">eltype</th></tr><tr class = \"subheader headerLastRow\"><th class = \"rowNumber\" style = \"font-weight: bold; text-align: right;\"></th><th title = \"Symbol\" style = \"text-align: left;\">Symbol</th><th title = \"Union{Nothing, Float64}\" style = \"text-align: left;\">Union…</th><th title = \"Any\" style = \"text-align: left;\">Any</th><th title = \"Any\" style = \"text-align: left;\">Any</th><th title = \"Any\" style = \"text-align: left;\">Any</th><th title = \"Int64\" style = \"text-align: left;\">Int64</th><th title = \"DataType\" style = \"text-align: left;\">DataType</th></tr></thead><tbody><tr><td class = \"rowNumber\" style = \"font-weight: bold; text-align: right;\">1</td><td style = \"text-align: left;\">Datum von</td><td style = \"font-style: italic; text-align: left;\"></td><td style = \"text-align: left;\">2022-12-01T00:00:00</td><td style = \"text-align: left;\">2023-12-01T11:52:30</td><td style = \"text-align: left;\">2024-11-30T23:45:00</td><td style = \"text-align: right;\">0</td><td style = \"text-align: left;\">DateTime</td></tr><tr><td class = \"rowNumber\" style = \"font-weight: bold; text-align: right;\">2</td><td style = \"text-align: left;\">Datum bis</td><td style = \"font-style: italic; text-align: left;\"></td><td style = \"text-align: left;\">2022-12-01T00:15:00</td><td style = \"text-align: left;\">2023-12-01T12:07:30</td><td style = \"text-align: left;\">2024-12-01T00:00:00</td><td style = \"text-align: right;\">0</td><td style = \"text-align: left;\">DateTime</td></tr><tr><td class = \"rowNumber\" style = \"font-weight: bold; text-align: right;\">3</td><td style = \"text-align: left;\">Biomasse [MWh] Originalauflösungen</td><td style = \"text-align: left;\">1060.16</td><td style = \"text-align: left;\">837.75</td><td style = \"text-align: left;\">1055.75</td><td style = \"text-align: left;\">1293.25</td><td style = \"text-align: right;\">0</td><td style = \"text-align: left;\">Float64</td></tr><tr><td class = \"rowNumber\" style = \"font-weight: bold; text-align: right;\">4</td><td style = \"text-align: left;\">Wasserkraft [MWh] Originalauflösungen</td><td style = \"text-align: left;\">456.487</td><td style = \"text-align: left;\">231.5</td><td style = \"text-align: left;\">458.75</td><td style = \"text-align: left;\">817.0</td><td style = \"text-align: right;\">0</td><td style = \"text-align: left;\">Float64</td></tr><tr><td class = \"rowNumber\" style = \"font-weight: bold; text-align: right;\">5</td><td style = \"text-align: left;\">Wind Offshore [MWh] Originalauflösungen</td><td style = \"text-align: left;\">703.733</td><td style = \"text-align: left;\">0.0</td><td style = \"text-align: left;\">653.5</td><td style = \"text-align: left;\">1910.0</td><td style = \"text-align: right;\">0</td><td style = \"text-align: left;\">Float64</td></tr><tr><td class = \"rowNumber\" style = \"font-weight: bold; text-align: right;\">6</td><td style = \"text-align: left;\">Wind Onshore [MWh] Originalauflösungen</td><td style = \"text-align: left;\">3224.35</td><td style = \"text-align: left;\">11.0</td><td style = \"text-align: left;\">2534.75</td><td style = \"text-align: left;\">12039.5</td><td style = \"text-align: right;\">0</td><td style = \"text-align: left;\">Float64</td></tr><tr><td class = \"rowNumber\" style = \"font-weight: bold; text-align: right;\">7</td><td style = \"text-align: left;\">Photovoltaik [MWh] Originalauflösungen</td><td style = \"text-align: left;\">1690.08</td><td style = \"text-align: left;\">0.0</td><td style = \"text-align: left;\">28.0</td><td style = \"text-align: left;\">11753.0</td><td style = \"text-align: right;\">0</td><td style = \"text-align: left;\">Float64</td></tr><tr><td class = \"rowNumber\" style = \"font-weight: bold; text-align: right;\">8</td><td style = \"text-align: left;\">Sonstige Erneuerbare [MWh] Originalauflösungen</td><td style = \"font-style: italic; text-align: left;\"></td><td style = \"text-align: left;\">-</td><td style = \"font-style: italic; text-align: left;\"></td><td style = \"text-align: left;\">51,25</td><td style = \"text-align: right;\">0</td><td style = \"text-align: left;\">String7</td></tr><tr><td class = \"rowNumber\" style = \"font-weight: bold; text-align: right;\">9</td><td style = \"text-align: left;\">Kernenergie [MWh] Originalauflösungen</td><td style = \"font-style: italic; text-align: left;\"></td><td style = \"text-align: left;\">-</td><td style = \"font-style: italic; text-align: left;\"></td><td style = \"text-align: left;\">957,50</td><td style = \"text-align: right;\">0</td><td style = \"text-align: left;\">String7</td></tr><tr><td class = \"rowNumber\" style = \"font-weight: bold; text-align: right;\">10</td><td style = \"text-align: left;\">Braunkohle [MWh] Originalauflösungen</td><td style = \"text-align: left;\">2153.56</td><td style = \"text-align: left;\">615.5</td><td style = \"text-align: left;\">2101.5</td><td style = \"text-align: left;\">4300.25</td><td style = \"text-align: right;\">0</td><td style = \"text-align: left;\">Float64</td></tr><tr><td class = \"rowNumber\" style = \"font-weight: bold; text-align: right;\">11</td><td style = \"text-align: left;\">Steinkohle [MWh] Originalauflösungen</td><td style = \"text-align: left;\">1016.08</td><td style = \"text-align: left;\">76.75</td><td style = \"text-align: left;\">744.0</td><td style = \"text-align: left;\">3922.0</td><td style = \"text-align: right;\">0</td><td style = \"text-align: left;\">Float64</td></tr><tr><td class = \"rowNumber\" style = \"font-weight: bold; text-align: right;\">12</td><td style = \"text-align: left;\">Erdgas [MWh] Originalauflösungen</td><td style = \"text-align: left;\">1441.44</td><td style = \"text-align: left;\">373.0</td><td style = \"text-align: left;\">1310.25</td><td style = \"text-align: left;\">4169.25</td><td style = \"text-align: right;\">0</td><td style = \"text-align: left;\">Float64</td></tr><tr><td class = \"rowNumber\" style = \"font-weight: bold; text-align: right;\">13</td><td style = \"text-align: left;\">Pumpspeicher [MWh] Originalauflösungen</td><td style = \"text-align: left;\">296.406</td><td style = \"text-align: left;\">0.0</td><td style = \"text-align: left;\">102.25</td><td style = \"text-align: left;\">2096.75</td><td style = \"text-align: right;\">0</td><td style = \"text-align: left;\">Float64</td></tr><tr><td class = \"rowNumber\" style = \"font-weight: bold; text-align: right;\">14</td><td style = \"text-align: left;\">Sonstige Konventionelle [MWh] Originalauflösungen</td><td style = \"font-style: italic; text-align: left;\"></td><td style = \"text-align: left;\">-</td><td style = \"font-style: italic; text-align: left;\"></td><td style = \"text-align: left;\">577,00</td><td style = \"text-align: right;\">0</td><td style = \"text-align: left;\">String7</td></tr></tbody></table></div>"
      ],
      "text/latex": [
       "\\begin{tabular}{r|cccc}\n",
       "\t& variable & mean & min & \\\\\n",
       "\t\\hline\n",
       "\t& Symbol & Union… & Any & \\\\\n",
       "\t\\hline\n",
       "\t1 & Datum von &  & 2022-12-01T00:00:00 & $\\dots$ \\\\\n",
       "\t2 & Datum bis &  & 2022-12-01T00:15:00 & $\\dots$ \\\\\n",
       "\t3 & Biomasse [MWh] Originalauflösungen & 1060.16 & 837.75 & $\\dots$ \\\\\n",
       "\t4 & Wasserkraft [MWh] Originalauflösungen & 456.487 & 231.5 & $\\dots$ \\\\\n",
       "\t5 & Wind Offshore [MWh] Originalauflösungen & 703.733 & 0.0 & $\\dots$ \\\\\n",
       "\t6 & Wind Onshore [MWh] Originalauflösungen & 3224.35 & 11.0 & $\\dots$ \\\\\n",
       "\t7 & Photovoltaik [MWh] Originalauflösungen & 1690.08 & 0.0 & $\\dots$ \\\\\n",
       "\t8 & Sonstige Erneuerbare [MWh] Originalauflösungen &  & - & $\\dots$ \\\\\n",
       "\t9 & Kernenergie [MWh] Originalauflösungen &  & - & $\\dots$ \\\\\n",
       "\t10 & Braunkohle [MWh] Originalauflösungen & 2153.56 & 615.5 & $\\dots$ \\\\\n",
       "\t11 & Steinkohle [MWh] Originalauflösungen & 1016.08 & 76.75 & $\\dots$ \\\\\n",
       "\t12 & Erdgas [MWh] Originalauflösungen & 1441.44 & 373.0 & $\\dots$ \\\\\n",
       "\t13 & Pumpspeicher [MWh] Originalauflösungen & 296.406 & 0.0 & $\\dots$ \\\\\n",
       "\t14 & Sonstige Konventionelle [MWh] Originalauflösungen &  & - & $\\dots$ \\\\\n",
       "\\end{tabular}\n"
      ],
      "text/plain": [
       "\u001b[1m14×7 DataFrame\u001b[0m\n",
       "\u001b[1m Row \u001b[0m│\u001b[1m variable                          \u001b[0m\u001b[1m mean    \u001b[0m\u001b[1m min                 \u001b[0m\u001b[1m median\u001b[0m ⋯\n",
       "     │\u001b[90m Symbol                            \u001b[0m\u001b[90m Union…  \u001b[0m\u001b[90m Any                 \u001b[0m\u001b[90m Any   \u001b[0m ⋯\n",
       "─────┼──────────────────────────────────────────────────────────────────────────\n",
       "   1 │ Datum von                         \u001b[90m         \u001b[0m 2022-12-01T00:00:00  2023-1 ⋯\n",
       "   2 │ Datum bis                         \u001b[90m         \u001b[0m 2022-12-01T00:15:00  2023-1\n",
       "   3 │ Biomasse [MWh] Originalauflösung…  1060.16  837.75               1055.7\n",
       "   4 │ Wasserkraft [MWh] Originalauflös…  456.487  231.5                458.75\n",
       "   5 │ Wind Offshore [MWh] Originalaufl…  703.733  0.0                  653.5  ⋯\n",
       "   6 │ Wind Onshore [MWh] Originalauflö…  3224.35  11.0                 2534.7\n",
       "   7 │ Photovoltaik [MWh] Originalauflö…  1690.08  0.0                  28.0\n",
       "   8 │ Sonstige Erneuerbare [MWh] Origi… \u001b[90m         \u001b[0m -                   \u001b[90m       \u001b[0m\n",
       "   9 │ Kernenergie [MWh] Originalauflös… \u001b[90m         \u001b[0m -                   \u001b[90m       \u001b[0m ⋯\n",
       "  10 │ Braunkohle [MWh] Originalauflösu…  2153.56  615.5                2101.5\n",
       "  11 │ Steinkohle [MWh] Originalauflösu…  1016.08  76.75                744.0\n",
       "  12 │ Erdgas [MWh] Originalauflösungen   1441.44  373.0                1310.2\n",
       "  13 │ Pumpspeicher [MWh] Originalauflö…  296.406  0.0                  102.25 ⋯\n",
       "  14 │ Sonstige Konventionelle [MWh] Or… \u001b[90m         \u001b[0m -                   \u001b[90m       \u001b[0m\n",
       "\u001b[36m                                                               4 columns omitted\u001b[0m"
      ]
     },
     "metadata": {},
     "output_type": "display_data"
    }
   ],
   "source": [
    "df = CSV.read(\"real_erz_22-24.csv\", DataFrame, dateformat=\"d.m.y H:M\", decimal=',', groupmark='.')\n",
    "describe(df)"
   ]
  },
  {
   "cell_type": "code",
   "execution_count": null,
   "metadata": {},
   "outputs": [
    {
     "ename": "ArgumentError",
     "evalue": "ArgumentError: column name :col8 not found in the data frame",
     "output_type": "error",
     "traceback": [
      "ArgumentError: column name :col8 not found in the data frame\n",
      "\n",
      "Stacktrace:\n",
      " [1] lookupname\n",
      "   @ ~/.julia/packages/DataFrames/kcA9R/src/other/index.jl:431 [inlined]\n",
      " [2] getindex\n",
      "   @ ~/.julia/packages/DataFrames/kcA9R/src/other/index.jl:440 [inlined]\n",
      " [3] getindex(df::DataFrame, ::typeof(!), col_ind::Symbol)\n",
      "   @ DataFrames ~/.julia/packages/DataFrames/kcA9R/src/dataframe/dataframe.jl:557\n",
      " [4] getproperty(df::DataFrame, col_ind::Symbol)\n",
      "   @ DataFrames ~/.julia/packages/DataFrames/kcA9R/src/abstractdataframe/abstractdataframe.jl:448\n",
      " [5] top-level scope\n",
      "   @ ~/Projekte/genier/data/jl_notebook_cell_df34fa98e69747e1a8f8a730347b8e2f_W4sZmlsZQ==.jl:10"
     ]
    }
   ],
   "source": []
  },
  {
   "cell_type": "code",
   "execution_count": 20,
   "metadata": {},
   "outputs": [],
   "source": []
  }
 ],
 "metadata": {
  "kernelspec": {
   "display_name": "Julia 1.11.1",
   "language": "julia",
   "name": "julia-1.11"
  },
  "language_info": {
   "file_extension": ".jl",
   "mimetype": "application/julia",
   "name": "julia",
   "version": "1.11.1"
  }
 },
 "nbformat": 4,
 "nbformat_minor": 2
}
